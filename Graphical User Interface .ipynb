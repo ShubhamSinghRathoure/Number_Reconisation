{
 "cells": [
  {
   "cell_type": "code",
   "execution_count": null,
   "id": "44f03a98",
   "metadata": {},
   "outputs": [],
   "source": [
    "from Testing import testing\n",
    "from keras.models import load_model\n",
    "import cv2\n",
    "import numpy as np\n",
    "import os\n",
    "from PIL import ImageTk, Image, ImageDraw\n",
    "import PIL\n",
    "import tkinter as tk\n",
    "from tkinter import *"
   ]
  },
  {
   "cell_type": "code",
   "execution_count": null,
   "id": "6bb9ce0a",
   "metadata": {},
   "outputs": [],
   "source": [
    "classes=[0,1,2,3,4,5,6,7,8,9]\n",
    "width = 500\n",
    "height = 500\n",
    "center = height//2\n",
    "white = (255, 255, 255)\n",
    "green = (0,128,0)\n",
    "\n",
    "def paint(event):\n",
    "    x1, y1 = (event.x - 10), (event.y - 10)\n",
    "    x2, y2 = (event.x + 10), (event.y + 10)\n",
    "    cv.create_oval(x1, y1, x2, y2, fill=\"black\",width=40)\n",
    "    draw.line([x1, y1, x2, y2],fill=\"black\",width=40)\n",
    "def model():\n",
    "    filename = \"image.png\"\n",
    "    image1.save(filename)\n",
    "    pred= testing()\n",
    "    print('argmax',np.argmax(pred[0]),'\\n',\n",
    "          pred[0][np.argmax(pred[0])],'\\n',classes[np.argmax(pred[0])])\n",
    "    txt.insert(tk.INSERT,\"{}\\nAccuracy: {}%\".format(classes[np.argmax(pred[0])],round(pred[0][np.argmax(pred[0])]*100,3)))\n",
    "    \n",
    "def clear():\n",
    "    cv.delete('all')\n",
    "    draw.rectangle((0, 0, 500, 500), fill=(255, 255, 255, 0))\n",
    "    txt.delete('1.0', END)\n",
    "\n",
    "root = Tk()\n",
    "\n",
    "root.resizable(0,0)\n",
    "cv = Canvas(root, width=width, height=height, bg='white')\n",
    "cv.pack()\n",
    "\n",
    "# PIL create an empty image and draw object to draw on\n",
    "# memory only, not visible\n",
    "image1 = PIL.Image.new(\"RGB\", (width, height), white)\n",
    "draw = ImageDraw.Draw(image1)\n",
    "\n",
    "txt=tk.Text(root,bd=3,exportselection=0,bg='WHITE',font='Helvetica',\n",
    "            padx=10,pady=10,height=5,width=20)\n",
    "\n",
    "cv.pack(expand=YES, fill=BOTH)\n",
    "cv.bind(\"<B1-Motion>\", paint)\n",
    "\n",
    "btnModel=Button(text=\"Predict\",command=model)\n",
    "btnClear=Button(text=\"clear\",command=clear)\n",
    "btnModel.pack()\n",
    "btnClear.pack()\n",
    "txt.pack()\n",
    "root.title('Number Recogniser')\n",
    "root.mainloop()\n"
   ]
  }
 ],
 "metadata": {
  "kernelspec": {
   "display_name": "Python 3 (ipykernel)",
   "language": "python",
   "name": "python3"
  },
  "language_info": {
   "codemirror_mode": {
    "name": "ipython",
    "version": 3
   },
   "file_extension": ".py",
   "mimetype": "text/x-python",
   "name": "python",
   "nbconvert_exporter": "python",
   "pygments_lexer": "ipython3",
   "version": "3.7.6"
  }
 },
 "nbformat": 4,
 "nbformat_minor": 5
}
